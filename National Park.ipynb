{
 "cells": [
  {
   "cell_type": "markdown",
   "metadata": {},
   "source": [
    "## Import Library"
   ]
  },
  {
   "cell_type": "code",
   "execution_count": 40,
   "metadata": {},
   "outputs": [],
   "source": [
    "import pandas as pd\n",
    "from folium import *"
   ]
  },
  {
   "cell_type": "markdown",
   "metadata": {},
   "source": [
    "## Fetching Data CSV from file"
   ]
  },
  {
   "cell_type": "code",
   "execution_count": 42,
   "metadata": {},
   "outputs": [],
   "source": [
    "data=pd.read_csv(\"file2.csv\")"
   ]
  },
  {
   "cell_type": "code",
   "execution_count": 55,
   "metadata": {},
   "outputs": [
    {
     "data": {
      "text/html": [
       "<div>\n",
       "<style scoped>\n",
       "    .dataframe tbody tr th:only-of-type {\n",
       "        vertical-align: middle;\n",
       "    }\n",
       "\n",
       "    .dataframe tbody tr th {\n",
       "        vertical-align: top;\n",
       "    }\n",
       "\n",
       "    .dataframe thead th {\n",
       "        text-align: right;\n",
       "    }\n",
       "</style>\n",
       "<table border=\"1\" class=\"dataframe\">\n",
       "  <thead>\n",
       "    <tr style=\"text-align: right;\">\n",
       "      <th></th>\n",
       "      <th>Unnamed: 0</th>\n",
       "      <th>Latitude</th>\n",
       "      <th>Longitude</th>\n",
       "      <th>Name</th>\n",
       "      <th>City</th>\n",
       "      <th>State</th>\n",
       "    </tr>\n",
       "  </thead>\n",
       "  <tbody>\n",
       "    <tr>\n",
       "      <th>0</th>\n",
       "      <td>0</td>\n",
       "      <td>27.085251</td>\n",
       "      <td>88.700928</td>\n",
       "      <td>Neora Valley National Park</td>\n",
       "      <td>Darjeeling</td>\n",
       "      <td>West Bengal</td>\n",
       "    </tr>\n",
       "    <tr>\n",
       "      <th>1</th>\n",
       "      <td>1</td>\n",
       "      <td>26.659424</td>\n",
       "      <td>91.001129</td>\n",
       "      <td>Manas National Park</td>\n",
       "      <td>Gobardhana</td>\n",
       "      <td>Assam</td>\n",
       "    </tr>\n",
       "    <tr>\n",
       "      <th>2</th>\n",
       "      <td>2</td>\n",
       "      <td>8.534849</td>\n",
       "      <td>77.150116</td>\n",
       "      <td>Neyyar Wildlife Sanctuary</td>\n",
       "      <td>Kallikkad</td>\n",
       "      <td>Kerala</td>\n",
       "    </tr>\n",
       "    <tr>\n",
       "      <th>3</th>\n",
       "      <td>3</td>\n",
       "      <td>31.856564</td>\n",
       "      <td>75.875702</td>\n",
       "      <td>Dasuya Forest Division</td>\n",
       "      <td>Dasuya</td>\n",
       "      <td>Hoshiarpur</td>\n",
       "    </tr>\n",
       "    <tr>\n",
       "      <th>4</th>\n",
       "      <td>4</td>\n",
       "      <td>24.567108</td>\n",
       "      <td>93.836975</td>\n",
       "      <td>Keibul Lamjao National Park</td>\n",
       "      <td>Bishnupur</td>\n",
       "      <td>Manipur</td>\n",
       "    </tr>\n",
       "    <tr>\n",
       "      <th>5</th>\n",
       "      <td>5</td>\n",
       "      <td>11.344064</td>\n",
       "      <td>76.409912</td>\n",
       "      <td>New Amarambalam Wildlife Sanctuary</td>\n",
       "      <td>Kavalamukkatta</td>\n",
       "      <td>Kerala</td>\n",
       "    </tr>\n",
       "    <tr>\n",
       "      <th>6</th>\n",
       "      <td>6</td>\n",
       "      <td>19.403315</td>\n",
       "      <td>72.957870</td>\n",
       "      <td>Tungareshwar National Park</td>\n",
       "      <td>Usgaon</td>\n",
       "      <td>Maharashtra</td>\n",
       "    </tr>\n",
       "    <tr>\n",
       "      <th>7</th>\n",
       "      <td>7</td>\n",
       "      <td>17.143744</td>\n",
       "      <td>73.857307</td>\n",
       "      <td>Chandoli National Park</td>\n",
       "      <td>Kalgaon</td>\n",
       "      <td>Maharashtra</td>\n",
       "    </tr>\n",
       "    <tr>\n",
       "      <th>8</th>\n",
       "      <td>8</td>\n",
       "      <td>17.781902</td>\n",
       "      <td>73.700935</td>\n",
       "      <td>Koyna Wildlife Sanctuary</td>\n",
       "      <td>Koyna</td>\n",
       "      <td>Maharashtra</td>\n",
       "    </tr>\n",
       "    <tr>\n",
       "      <th>9</th>\n",
       "      <td>9</td>\n",
       "      <td>29.548599</td>\n",
       "      <td>78.935303</td>\n",
       "      <td>Jim Corbett National Park</td>\n",
       "      <td>Ramnagar</td>\n",
       "      <td>Uttarakhand</td>\n",
       "    </tr>\n",
       "    <tr>\n",
       "      <th>10</th>\n",
       "      <td>10</td>\n",
       "      <td>22.016617</td>\n",
       "      <td>79.829674</td>\n",
       "      <td>Pench National Park</td>\n",
       "      <td>Seoni</td>\n",
       "      <td>Madhya Pradesh</td>\n",
       "    </tr>\n",
       "    <tr>\n",
       "      <th>11</th>\n",
       "      <td>11</td>\n",
       "      <td>11.666400</td>\n",
       "      <td>76.629189</td>\n",
       "      <td>Bandipur National Park</td>\n",
       "      <td>Karnataka</td>\n",
       "      <td>India</td>\n",
       "    </tr>\n",
       "    <tr>\n",
       "      <th>12</th>\n",
       "      <td>12</td>\n",
       "      <td>27.669033</td>\n",
       "      <td>95.362549</td>\n",
       "      <td>Dibru Saikhowa National Park</td>\n",
       "      <td>Assam</td>\n",
       "      <td>India</td>\n",
       "    </tr>\n",
       "    <tr>\n",
       "      <th>13</th>\n",
       "      <td>13</td>\n",
       "      <td>26.575863</td>\n",
       "      <td>93.167046</td>\n",
       "      <td>Kaziranga National Park</td>\n",
       "      <td>Assam</td>\n",
       "      <td>India</td>\n",
       "    </tr>\n",
       "    <tr>\n",
       "      <th>14</th>\n",
       "      <td>14</td>\n",
       "      <td>13.894744</td>\n",
       "      <td>75.389214</td>\n",
       "      <td>Shettihalli Wildlife Sanctuary</td>\n",
       "      <td>Karnataka</td>\n",
       "      <td>India</td>\n",
       "    </tr>\n",
       "  </tbody>\n",
       "</table>\n",
       "</div>"
      ],
      "text/plain": [
       "    Unnamed: 0   Latitude  Longitude                                Name  \\\n",
       "0            0  27.085251  88.700928          Neora Valley National Park   \n",
       "1            1  26.659424  91.001129                 Manas National Park   \n",
       "2            2   8.534849  77.150116           Neyyar Wildlife Sanctuary   \n",
       "3            3  31.856564  75.875702              Dasuya Forest Division   \n",
       "4            4  24.567108  93.836975         Keibul Lamjao National Park   \n",
       "5            5  11.344064  76.409912  New Amarambalam Wildlife Sanctuary   \n",
       "6            6  19.403315  72.957870          Tungareshwar National Park   \n",
       "7            7  17.143744  73.857307              Chandoli National Park   \n",
       "8            8  17.781902  73.700935            Koyna Wildlife Sanctuary   \n",
       "9            9  29.548599  78.935303           Jim Corbett National Park   \n",
       "10          10  22.016617  79.829674                 Pench National Park   \n",
       "11          11  11.666400  76.629189              Bandipur National Park   \n",
       "12          12  27.669033  95.362549        Dibru Saikhowa National Park   \n",
       "13          13  26.575863  93.167046             Kaziranga National Park   \n",
       "14          14  13.894744  75.389214      Shettihalli Wildlife Sanctuary   \n",
       "\n",
       "               City            State  \n",
       "0        Darjeeling      West Bengal  \n",
       "1        Gobardhana            Assam  \n",
       "2         Kallikkad           Kerala  \n",
       "3            Dasuya       Hoshiarpur  \n",
       "4         Bishnupur          Manipur  \n",
       "5    Kavalamukkatta           Kerala  \n",
       "6            Usgaon      Maharashtra  \n",
       "7           Kalgaon      Maharashtra  \n",
       "8             Koyna      Maharashtra  \n",
       "9          Ramnagar      Uttarakhand  \n",
       "10            Seoni   Madhya Pradesh  \n",
       "11        Karnataka            India  \n",
       "12            Assam            India  \n",
       "13            Assam            India  \n",
       "14        Karnataka            India  "
      ]
     },
     "execution_count": 55,
     "metadata": {},
     "output_type": "execute_result"
    }
   ],
   "source": [
    "data"
   ]
  },
  {
   "cell_type": "markdown",
   "metadata": {},
   "source": []
  },
  {
   "cell_type": "code",
   "execution_count": 66,
   "metadata": {},
   "outputs": [],
   "source": [
    "colour=['purple', 'darkblue', 'lightred', 'lightblue', 'blue', 'lightgrayblack', 'darkpurple', 'darkgreen', 'pink', 'beige', 'darkred', 'gray', 'green', 'red', 'orange']"
   ]
  },
  {
   "cell_type": "code",
   "execution_count": 101,
   "metadata": {},
   "outputs": [],
   "source": [
    "mape=folium.Map(location=[22.2458,79.0882],zoom_start=4.5,max_zoom=6,min_zoom=4,tiles=\"OpenStreetMap\",collapsed=True)"
   ]
  },
  {
   "cell_type": "code",
   "execution_count": null,
   "metadata": {},
   "outputs": [],
   "source": []
  },
  {
   "cell_type": "code",
   "execution_count": 102,
   "metadata": {},
   "outputs": [],
   "source": [
    "for i in range(14):\n",
    "    mape.add_child(folium.Marker(location=[data[\"Latitude\"][i],data[\"Longitude\"][i]],popup=data[\"Name\"][i],icon=folium.Icon(color=colour[i],icon_color='white', icon='paw', angle=0, prefix='fa')))"
   ]
  },
  {
   "cell_type": "code",
   "execution_count": 103,
   "metadata": {},
   "outputs": [],
   "source": [
    "mape.save(\"Map1.html\")"
   ]
  },
  {
   "cell_type": "code",
   "execution_count": null,
   "metadata": {},
   "outputs": [],
   "source": []
  },
  {
   "cell_type": "code",
   "execution_count": null,
   "metadata": {},
   "outputs": [],
   "source": []
  },
  {
   "cell_type": "code",
   "execution_count": null,
   "metadata": {},
   "outputs": [],
   "source": []
  }
 ],
 "metadata": {
  "kernelspec": {
   "display_name": "Python 3",
   "language": "python",
   "name": "python3"
  },
  "language_info": {
   "codemirror_mode": {
    "name": "ipython",
    "version": 3
   },
   "file_extension": ".py",
   "mimetype": "text/x-python",
   "name": "python",
   "nbconvert_exporter": "python",
   "pygments_lexer": "ipython3",
   "version": "3.7.3"
  }
 },
 "nbformat": 4,
 "nbformat_minor": 2
}
